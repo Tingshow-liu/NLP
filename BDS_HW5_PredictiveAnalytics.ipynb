{
  "cells": [
    {
      "cell_type": "code",
      "execution_count": 1,
      "metadata": {
        "id": "ehllFG1BPqlJ"
      },
      "outputs": [],
      "source": [
        "import pandas as pd\n",
        "import warnings\n",
        "warnings.filterwarnings(\"ignore\")"
      ]
    },
    {
      "cell_type": "code",
      "execution_count": 2,
      "metadata": {
        "colab": {
          "base_uri": "https://localhost:8080/",
          "height": 366
        },
        "id": "WZRV73n6QHSX",
        "outputId": "e82822e0-dd56-438b-fe9a-e01fdcb89246"
      },
      "outputs": [
        {
          "name": "stdout",
          "output_type": "stream",
          "text": [
            "(4024, 16)\n"
          ]
        },
        {
          "data": {
            "text/html": [
              "<div>\n",
              "<style scoped>\n",
              "    .dataframe tbody tr th:only-of-type {\n",
              "        vertical-align: middle;\n",
              "    }\n",
              "\n",
              "    .dataframe tbody tr th {\n",
              "        vertical-align: top;\n",
              "    }\n",
              "\n",
              "    .dataframe thead th {\n",
              "        text-align: right;\n",
              "    }\n",
              "</style>\n",
              "<table border=\"1\" class=\"dataframe\">\n",
              "  <thead>\n",
              "    <tr style=\"text-align: right;\">\n",
              "      <th></th>\n",
              "      <th>Age</th>\n",
              "      <th>Race</th>\n",
              "      <th>Marital Status</th>\n",
              "      <th>T Stage</th>\n",
              "      <th>N Stage</th>\n",
              "      <th>6th Stage</th>\n",
              "      <th>differentiate</th>\n",
              "      <th>Grade</th>\n",
              "      <th>A Stage</th>\n",
              "      <th>Tumor Size</th>\n",
              "      <th>Estrogen Status</th>\n",
              "      <th>Progesterone Status</th>\n",
              "      <th>Regional Node Examined</th>\n",
              "      <th>Reginol Node Positive</th>\n",
              "      <th>Survival Months</th>\n",
              "      <th>Status</th>\n",
              "    </tr>\n",
              "  </thead>\n",
              "  <tbody>\n",
              "    <tr>\n",
              "      <th>0</th>\n",
              "      <td>68</td>\n",
              "      <td>White</td>\n",
              "      <td>Married</td>\n",
              "      <td>T1</td>\n",
              "      <td>N1</td>\n",
              "      <td>IIA</td>\n",
              "      <td>Poorly differentiated</td>\n",
              "      <td>3</td>\n",
              "      <td>Regional</td>\n",
              "      <td>4</td>\n",
              "      <td>Positive</td>\n",
              "      <td>Positive</td>\n",
              "      <td>24</td>\n",
              "      <td>1</td>\n",
              "      <td>60</td>\n",
              "      <td>Alive</td>\n",
              "    </tr>\n",
              "    <tr>\n",
              "      <th>1</th>\n",
              "      <td>50</td>\n",
              "      <td>White</td>\n",
              "      <td>Married</td>\n",
              "      <td>T2</td>\n",
              "      <td>N2</td>\n",
              "      <td>IIIA</td>\n",
              "      <td>Moderately differentiated</td>\n",
              "      <td>2</td>\n",
              "      <td>Regional</td>\n",
              "      <td>35</td>\n",
              "      <td>Positive</td>\n",
              "      <td>Positive</td>\n",
              "      <td>14</td>\n",
              "      <td>5</td>\n",
              "      <td>62</td>\n",
              "      <td>Alive</td>\n",
              "    </tr>\n",
              "    <tr>\n",
              "      <th>2</th>\n",
              "      <td>58</td>\n",
              "      <td>White</td>\n",
              "      <td>Divorced</td>\n",
              "      <td>T3</td>\n",
              "      <td>N3</td>\n",
              "      <td>IIIC</td>\n",
              "      <td>Moderately differentiated</td>\n",
              "      <td>2</td>\n",
              "      <td>Regional</td>\n",
              "      <td>63</td>\n",
              "      <td>Positive</td>\n",
              "      <td>Positive</td>\n",
              "      <td>14</td>\n",
              "      <td>7</td>\n",
              "      <td>75</td>\n",
              "      <td>Alive</td>\n",
              "    </tr>\n",
              "    <tr>\n",
              "      <th>3</th>\n",
              "      <td>58</td>\n",
              "      <td>White</td>\n",
              "      <td>Married</td>\n",
              "      <td>T1</td>\n",
              "      <td>N1</td>\n",
              "      <td>IIA</td>\n",
              "      <td>Poorly differentiated</td>\n",
              "      <td>3</td>\n",
              "      <td>Regional</td>\n",
              "      <td>18</td>\n",
              "      <td>Positive</td>\n",
              "      <td>Positive</td>\n",
              "      <td>2</td>\n",
              "      <td>1</td>\n",
              "      <td>84</td>\n",
              "      <td>Alive</td>\n",
              "    </tr>\n",
              "    <tr>\n",
              "      <th>4</th>\n",
              "      <td>47</td>\n",
              "      <td>White</td>\n",
              "      <td>Married</td>\n",
              "      <td>T2</td>\n",
              "      <td>N1</td>\n",
              "      <td>IIB</td>\n",
              "      <td>Poorly differentiated</td>\n",
              "      <td>3</td>\n",
              "      <td>Regional</td>\n",
              "      <td>41</td>\n",
              "      <td>Positive</td>\n",
              "      <td>Positive</td>\n",
              "      <td>3</td>\n",
              "      <td>1</td>\n",
              "      <td>50</td>\n",
              "      <td>Alive</td>\n",
              "    </tr>\n",
              "  </tbody>\n",
              "</table>\n",
              "</div>"
            ],
            "text/plain": [
              "   Age   Race Marital Status T Stage  N Stage 6th Stage  \\\n",
              "0   68  White        Married       T1      N1       IIA   \n",
              "1   50  White        Married       T2      N2      IIIA   \n",
              "2   58  White       Divorced       T3      N3      IIIC   \n",
              "3   58  White        Married       T1      N1       IIA   \n",
              "4   47  White        Married       T2      N1       IIB   \n",
              "\n",
              "               differentiate Grade   A Stage  Tumor Size Estrogen Status  \\\n",
              "0      Poorly differentiated     3  Regional           4        Positive   \n",
              "1  Moderately differentiated     2  Regional          35        Positive   \n",
              "2  Moderately differentiated     2  Regional          63        Positive   \n",
              "3      Poorly differentiated     3  Regional          18        Positive   \n",
              "4      Poorly differentiated     3  Regional          41        Positive   \n",
              "\n",
              "  Progesterone Status  Regional Node Examined  Reginol Node Positive  \\\n",
              "0            Positive                      24                      1   \n",
              "1            Positive                      14                      5   \n",
              "2            Positive                      14                      7   \n",
              "3            Positive                       2                      1   \n",
              "4            Positive                       3                      1   \n",
              "\n",
              "   Survival Months Status  \n",
              "0               60  Alive  \n",
              "1               62  Alive  \n",
              "2               75  Alive  \n",
              "3               84  Alive  \n",
              "4               50  Alive  "
            ]
          },
          "execution_count": 2,
          "metadata": {},
          "output_type": "execute_result"
        }
      ],
      "source": [
        "data = pd.read_csv('Breast_Cancer_dataset.csv')\n",
        "print(data.shape)\n",
        "data.head()"
      ]
    },
    {
      "cell_type": "markdown",
      "metadata": {
        "id": "S3GXyRhWQQQi"
      },
      "source": [
        "# Step1: Preprocessing"
      ]
    },
    {
      "cell_type": "code",
      "execution_count": 4,
      "metadata": {
        "id": "wRQ25BO_QNGS"
      },
      "outputs": [],
      "source": [
        "from sklearn.neighbors import NearestNeighbors\n",
        "import matplotlib.pyplot as plt\n",
        "from sklearn.cluster import DBSCAN\n",
        "from sklearn.preprocessing import StandardScaler"
      ]
    },
    {
      "cell_type": "code",
      "execution_count": 5,
      "metadata": {
        "colab": {
          "base_uri": "https://localhost:8080/",
          "height": 53
        },
        "id": "AVq6mK-GaFsW",
        "outputId": "69f91ba2-fa1f-4e92-9447-f4fbe36cb251"
      },
      "outputs": [
        {
          "data": {
            "text/html": [
              "<div>\n",
              "<style scoped>\n",
              "    .dataframe tbody tr th:only-of-type {\n",
              "        vertical-align: middle;\n",
              "    }\n",
              "\n",
              "    .dataframe tbody tr th {\n",
              "        vertical-align: top;\n",
              "    }\n",
              "\n",
              "    .dataframe thead th {\n",
              "        text-align: right;\n",
              "    }\n",
              "</style>\n",
              "<table border=\"1\" class=\"dataframe\">\n",
              "  <thead>\n",
              "    <tr style=\"text-align: right;\">\n",
              "      <th></th>\n",
              "      <th>Number of NA</th>\n",
              "    </tr>\n",
              "  </thead>\n",
              "  <tbody>\n",
              "  </tbody>\n",
              "</table>\n",
              "</div>"
            ],
            "text/plain": [
              "Empty DataFrame\n",
              "Columns: [Number of NA]\n",
              "Index: []"
            ]
          },
          "execution_count": 5,
          "metadata": {},
          "output_type": "execute_result"
        }
      ],
      "source": [
        "# Check missing values: No missing value\n",
        "data.isna().sum()[data.isna().sum() > 0].sort_values(ascending=False).to_frame(name='Number of NA')"
      ]
    },
    {
      "cell_type": "code",
      "execution_count": 6,
      "metadata": {
        "colab": {
          "base_uri": "https://localhost:8080/",
          "height": 472
        },
        "id": "CwMOz27VazoS",
        "outputId": "cd9966be-e31a-4f9e-e009-e7d81641bc73"
      },
      "outputs": [
        {
          "data": {
            "image/png": "[encoded data removed]",
            "text/plain": [
              "<Figure size 640x480 with 1 Axes>"
            ]
          },
          "metadata": {},
          "output_type": "display_data"
        }
      ],
      "source": [
        "# Check outliers based on numerical data\n",
        "# For the features in the dataset, the column that is the most likely to contain outliers is \"Survival Months\" -> Check with a histogram\n",
        "# According to the histogram below, there's no obvious outlier in the dataset (not removing any data point)\n",
        "plt.hist(data['Survival Months'], bins=20, edgecolor='k')\n",
        "plt.title('Histogram of Survival Months')\n",
        "plt.xlabel('Survival Months')\n",
        "plt.ylabel('Frequency')\n",
        "plt.grid(True)\n",
        "plt.show()"
      ]
    },
    {
      "cell_type": "markdown",
      "metadata": {
        "id": "iC3yKAQn0wuX"
      },
      "source": [
        "# Step2: Modeling"
      ]
    },
    {
      "cell_type": "markdown",
      "metadata": {
        "id": "wcoecdKwe33o"
      },
      "source": [
        "## Feature selection & Feature ranking"
      ]
    },
    {
      "cell_type": "code",
      "execution_count": 7,
      "metadata": {
        "id": "gU9sjAp3fWQl"
      },
      "outputs": [],
      "source": [
        "from sklearn.ensemble import RandomForestClassifier\n",
        "from sklearn.feature_selection import SelectFromModel"
      ]
    },
    {
      "cell_type": "code",
      "execution_count": 8,
      "metadata": {
        "colab": {
          "base_uri": "https://localhost:8080/",
          "height": 308
        },
        "id": "vkzUiKiXetCA",
        "outputId": "99c30c36-9d8d-4a47-dea8-6dba010e9494"
      },
      "outputs": [
        {
          "name": "stdout",
          "output_type": "stream",
          "text": [
            "(4024, 36)\n"
          ]
        },
        {
          "data": {
            "text/html": [
              "<div>\n",
              "<style scoped>\n",
              "    .dataframe tbody tr th:only-of-type {\n",
              "        vertical-align: middle;\n",
              "    }\n",
              "\n",
              "    .dataframe tbody tr th {\n",
              "        vertical-align: top;\n",
              "    }\n",
              "\n",
              "    .dataframe thead th {\n",
              "        text-align: right;\n",
              "    }\n",
              "</style>\n",
              "<table border=\"1\" class=\"dataframe\">\n",
              "  <thead>\n",
              "    <tr style=\"text-align: right;\">\n",
              "      <th></th>\n",
              "      <th>Age</th>\n",
              "      <th>Grade</th>\n",
              "      <th>Tumor Size</th>\n",
              "      <th>Regional Node Examined</th>\n",
              "      <th>Reginol Node Positive</th>\n",
              "      <th>Survival Months</th>\n",
              "      <th>Race_Black</th>\n",
              "      <th>Race_Other</th>\n",
              "      <th>Race_White</th>\n",
              "      <th>Marital Status_Divorced</th>\n",
              "      <th>...</th>\n",
              "      <th>differentiate_Moderately differentiated</th>\n",
              "      <th>differentiate_Poorly differentiated</th>\n",
              "      <th>differentiate_Undifferentiated</th>\n",
              "      <th>differentiate_Well differentiated</th>\n",
              "      <th>A Stage_Distant</th>\n",
              "      <th>A Stage_Regional</th>\n",
              "      <th>Estrogen Status_Negative</th>\n",
              "      <th>Estrogen Status_Positive</th>\n",
              "      <th>Progesterone Status_Negative</th>\n",
              "      <th>Progesterone Status_Positive</th>\n",
              "    </tr>\n",
              "  </thead>\n",
              "  <tbody>\n",
              "    <tr>\n",
              "      <th>0</th>\n",
              "      <td>0</td>\n",
              "      <td>0</td>\n",
              "      <td>0</td>\n",
              "      <td>0</td>\n",
              "      <td>1</td>\n",
              "      <td>0</td>\n",
              "      <td>0</td>\n",
              "      <td>0</td>\n",
              "      <td>1</td>\n",
              "      <td>0</td>\n",
              "      <td>...</td>\n",
              "      <td>0</td>\n",
              "      <td>1</td>\n",
              "      <td>0</td>\n",
              "      <td>0</td>\n",
              "      <td>0</td>\n",
              "      <td>1</td>\n",
              "      <td>0</td>\n",
              "      <td>1</td>\n",
              "      <td>0</td>\n",
              "      <td>1</td>\n",
              "    </tr>\n",
              "    <tr>\n",
              "      <th>1</th>\n",
              "      <td>0</td>\n",
              "      <td>0</td>\n",
              "      <td>0</td>\n",
              "      <td>0</td>\n",
              "      <td>0</td>\n",
              "      <td>0</td>\n",
              "      <td>0</td>\n",
              "      <td>0</td>\n",
              "      <td>1</td>\n",
              "      <td>0</td>\n",
              "      <td>...</td>\n",
              "      <td>1</td>\n",
              "      <td>0</td>\n",
              "      <td>0</td>\n",
              "      <td>0</td>\n",
              "      <td>0</td>\n",
              "      <td>1</td>\n",
              "      <td>0</td>\n",
              "      <td>1</td>\n",
              "      <td>0</td>\n",
              "      <td>1</td>\n",
              "    </tr>\n",
              "    <tr>\n",
              "      <th>2</th>\n",
              "      <td>0</td>\n",
              "      <td>0</td>\n",
              "      <td>0</td>\n",
              "      <td>0</td>\n",
              "      <td>0</td>\n",
              "      <td>0</td>\n",
              "      <td>0</td>\n",
              "      <td>0</td>\n",
              "      <td>1</td>\n",
              "      <td>1</td>\n",
              "      <td>...</td>\n",
              "      <td>1</td>\n",
              "      <td>0</td>\n",
              "      <td>0</td>\n",
              "      <td>0</td>\n",
              "      <td>0</td>\n",
              "      <td>1</td>\n",
              "      <td>0</td>\n",
              "      <td>1</td>\n",
              "      <td>0</td>\n",
              "      <td>1</td>\n",
              "    </tr>\n",
              "    <tr>\n",
              "      <th>3</th>\n",
              "      <td>0</td>\n",
              "      <td>0</td>\n",
              "      <td>0</td>\n",
              "      <td>0</td>\n",
              "      <td>1</td>\n",
              "      <td>0</td>\n",
              "      <td>0</td>\n",
              "      <td>0</td>\n",
              "      <td>1</td>\n",
              "      <td>0</td>\n",
              "      <td>...</td>\n",
              "      <td>0</td>\n",
              "      <td>1</td>\n",
              "      <td>0</td>\n",
              "      <td>0</td>\n",
              "      <td>0</td>\n",
              "      <td>1</td>\n",
              "      <td>0</td>\n",
              "      <td>1</td>\n",
              "      <td>0</td>\n",
              "      <td>1</td>\n",
              "    </tr>\n",
              "    <tr>\n",
              "      <th>4</th>\n",
              "      <td>0</td>\n",
              "      <td>0</td>\n",
              "      <td>0</td>\n",
              "      <td>0</td>\n",
              "      <td>1</td>\n",
              "      <td>0</td>\n",
              "      <td>0</td>\n",
              "      <td>0</td>\n",
              "      <td>1</td>\n",
              "      <td>0</td>\n",
              "      <td>...</td>\n",
              "      <td>0</td>\n",
              "      <td>1</td>\n",
              "      <td>0</td>\n",
              "      <td>0</td>\n",
              "      <td>0</td>\n",
              "      <td>1</td>\n",
              "      <td>0</td>\n",
              "      <td>1</td>\n",
              "      <td>0</td>\n",
              "      <td>1</td>\n",
              "    </tr>\n",
              "  </tbody>\n",
              "</table>\n",
              "<p>5 rows × 36 columns</p>\n",
              "</div>"
            ],
            "text/plain": [
              "   Age  Grade  Tumor Size  Regional Node Examined  Reginol Node Positive  \\\n",
              "0    0      0           0                       0                      1   \n",
              "1    0      0           0                       0                      0   \n",
              "2    0      0           0                       0                      0   \n",
              "3    0      0           0                       0                      1   \n",
              "4    0      0           0                       0                      1   \n",
              "\n",
              "   Survival Months  Race_Black  Race_Other  Race_White  \\\n",
              "0                0           0           0           1   \n",
              "1                0           0           0           1   \n",
              "2                0           0           0           1   \n",
              "3                0           0           0           1   \n",
              "4                0           0           0           1   \n",
              "\n",
              "   Marital Status_Divorced  ...  differentiate_Moderately differentiated  \\\n",
              "0                        0  ...                                        0   \n",
              "1                        0  ...                                        1   \n",
              "2                        1  ...                                        1   \n",
              "3                        0  ...                                        0   \n",
              "4                        0  ...                                        0   \n",
              "\n",
              "   differentiate_Poorly differentiated  differentiate_Undifferentiated  \\\n",
              "0                                    1                               0   \n",
              "1                                    0                               0   \n",
              "2                                    0                               0   \n",
              "3                                    1                               0   \n",
              "4                                    1                               0   \n",
              "\n",
              "   differentiate_Well differentiated  A Stage_Distant  A Stage_Regional  \\\n",
              "0                                  0                0                 1   \n",
              "1                                  0                0                 1   \n",
              "2                                  0                0                 1   \n",
              "3                                  0                0                 1   \n",
              "4                                  0                0                 1   \n",
              "\n",
              "   Estrogen Status_Negative  Estrogen Status_Positive  \\\n",
              "0                         0                         1   \n",
              "1                         0                         1   \n",
              "2                         0                         1   \n",
              "3                         0                         1   \n",
              "4                         0                         1   \n",
              "\n",
              "   Progesterone Status_Negative  Progesterone Status_Positive  \n",
              "0                             0                             1  \n",
              "1                             0                             1  \n",
              "2                             0                             1  \n",
              "3                             0                             1  \n",
              "4                             0                             1  \n",
              "\n",
              "[5 rows x 36 columns]"
            ]
          },
          "execution_count": 8,
          "metadata": {},
          "output_type": "execute_result"
        }
      ],
      "source": [
        "# Feature ranking with Random Forest\n",
        "features = data.drop('Status', axis=1)\n",
        "label = data['Status'].to_frame()\n",
        "label = label.applymap(lambda x: 1 if x == \"Alive\" else 0)\n",
        "\n",
        "# Apply one-hot encoding before modeling\n",
        "cat_cols = ['Race', 'Marital Status', 'T Stage ', 'N Stage', '6th Stage', 'differentiate', 'A Stage', 'Estrogen Status', 'Progesterone Status']\n",
        "features_encoded = pd.get_dummies(features, columns=cat_cols)\n",
        "features_encoded = features_encoded.applymap(lambda x: 1 if x == True else 0)\n",
        "print(features_encoded.shape)\n",
        "# print(features_encoded.dtypes)\n",
        "features_encoded.head()"
      ]
    },
    {
      "cell_type": "markdown",
      "metadata": {
        "id": "U9xno3YxyhV4"
      },
      "source": [
        "Feature ranking with randome forest classifier"
      ]
    },
    {
      "cell_type": "code",
      "execution_count": 9,
      "metadata": {
        "colab": {
          "base_uri": "https://localhost:8080/",
          "height": 1000
        },
        "id": "OlLBbOzmfiPK",
        "outputId": "2780b21c-8f81-4af5-fd75-c789af013325"
      },
      "outputs": [
        {
          "name": "stdout",
          "output_type": "stream",
          "text": [
            "(36, 2)\n"
          ]
        },
        {
          "data": {
            "text/html": [
              "<div>\n",
              "<style scoped>\n",
              "    .dataframe tbody tr th:only-of-type {\n",
              "        vertical-align: middle;\n",
              "    }\n",
              "\n",
              "    .dataframe tbody tr th {\n",
              "        vertical-align: top;\n",
              "    }\n",
              "\n",
              "    .dataframe thead th {\n",
              "        text-align: right;\n",
              "    }\n",
              "</style>\n",
              "<table border=\"1\" class=\"dataframe\">\n",
              "  <thead>\n",
              "    <tr style=\"text-align: right;\">\n",
              "      <th></th>\n",
              "      <th>Feature</th>\n",
              "      <th>Importance</th>\n",
              "    </tr>\n",
              "  </thead>\n",
              "  <tbody>\n",
              "    <tr>\n",
              "      <th>0</th>\n",
              "      <td>Marital Status_Married</td>\n",
              "      <td>0.055287</td>\n",
              "    </tr>\n",
              "    <tr>\n",
              "      <th>1</th>\n",
              "      <td>N Stage_N3</td>\n",
              "      <td>0.054300</td>\n",
              "    </tr>\n",
              "    <tr>\n",
              "      <th>2</th>\n",
              "      <td>Reginol Node Positive</td>\n",
              "      <td>0.052015</td>\n",
              "    </tr>\n",
              "    <tr>\n",
              "      <th>3</th>\n",
              "      <td>differentiate_Poorly differentiated</td>\n",
              "      <td>0.047100</td>\n",
              "    </tr>\n",
              "    <tr>\n",
              "      <th>4</th>\n",
              "      <td>differentiate_Moderately differentiated</td>\n",
              "      <td>0.045343</td>\n",
              "    </tr>\n",
              "    <tr>\n",
              "      <th>5</th>\n",
              "      <td>Marital Status_Single</td>\n",
              "      <td>0.044985</td>\n",
              "    </tr>\n",
              "    <tr>\n",
              "      <th>6</th>\n",
              "      <td>6th Stage_IIIC</td>\n",
              "      <td>0.042717</td>\n",
              "    </tr>\n",
              "    <tr>\n",
              "      <th>7</th>\n",
              "      <td>Progesterone Status_Negative</td>\n",
              "      <td>0.040510</td>\n",
              "    </tr>\n",
              "    <tr>\n",
              "      <th>8</th>\n",
              "      <td>Race_Black</td>\n",
              "      <td>0.040171</td>\n",
              "    </tr>\n",
              "    <tr>\n",
              "      <th>9</th>\n",
              "      <td>Estrogen Status_Positive</td>\n",
              "      <td>0.040105</td>\n",
              "    </tr>\n",
              "    <tr>\n",
              "      <th>10</th>\n",
              "      <td>Race_White</td>\n",
              "      <td>0.040044</td>\n",
              "    </tr>\n",
              "    <tr>\n",
              "      <th>11</th>\n",
              "      <td>Marital Status_Divorced</td>\n",
              "      <td>0.038827</td>\n",
              "    </tr>\n",
              "    <tr>\n",
              "      <th>12</th>\n",
              "      <td>Marital Status_Widowed</td>\n",
              "      <td>0.037848</td>\n",
              "    </tr>\n",
              "    <tr>\n",
              "      <th>13</th>\n",
              "      <td>T Stage _T2</td>\n",
              "      <td>0.036838</td>\n",
              "    </tr>\n",
              "    <tr>\n",
              "      <th>14</th>\n",
              "      <td>Progesterone Status_Positive</td>\n",
              "      <td>0.036403</td>\n",
              "    </tr>\n",
              "    <tr>\n",
              "      <th>15</th>\n",
              "      <td>T Stage _T1</td>\n",
              "      <td>0.034507</td>\n",
              "    </tr>\n",
              "    <tr>\n",
              "      <th>16</th>\n",
              "      <td>Estrogen Status_Negative</td>\n",
              "      <td>0.031795</td>\n",
              "    </tr>\n",
              "    <tr>\n",
              "      <th>17</th>\n",
              "      <td>N Stage_N1</td>\n",
              "      <td>0.031518</td>\n",
              "    </tr>\n",
              "    <tr>\n",
              "      <th>18</th>\n",
              "      <td>T Stage _T3</td>\n",
              "      <td>0.031195</td>\n",
              "    </tr>\n",
              "    <tr>\n",
              "      <th>19</th>\n",
              "      <td>Race_Other</td>\n",
              "      <td>0.029906</td>\n",
              "    </tr>\n",
              "    <tr>\n",
              "      <th>20</th>\n",
              "      <td>differentiate_Well differentiated</td>\n",
              "      <td>0.025285</td>\n",
              "    </tr>\n",
              "    <tr>\n",
              "      <th>21</th>\n",
              "      <td>6th Stage_IIA</td>\n",
              "      <td>0.019156</td>\n",
              "    </tr>\n",
              "    <tr>\n",
              "      <th>22</th>\n",
              "      <td>T Stage _T4</td>\n",
              "      <td>0.018625</td>\n",
              "    </tr>\n",
              "    <tr>\n",
              "      <th>23</th>\n",
              "      <td>Marital Status_Separated</td>\n",
              "      <td>0.017740</td>\n",
              "    </tr>\n",
              "    <tr>\n",
              "      <th>24</th>\n",
              "      <td>A Stage_Distant</td>\n",
              "      <td>0.017259</td>\n",
              "    </tr>\n",
              "    <tr>\n",
              "      <th>25</th>\n",
              "      <td>Regional Node Examined</td>\n",
              "      <td>0.015666</td>\n",
              "    </tr>\n",
              "    <tr>\n",
              "      <th>26</th>\n",
              "      <td>N Stage_N2</td>\n",
              "      <td>0.015194</td>\n",
              "    </tr>\n",
              "    <tr>\n",
              "      <th>27</th>\n",
              "      <td>A Stage_Regional</td>\n",
              "      <td>0.015008</td>\n",
              "    </tr>\n",
              "    <tr>\n",
              "      <th>28</th>\n",
              "      <td>6th Stage_IIIA</td>\n",
              "      <td>0.012545</td>\n",
              "    </tr>\n",
              "    <tr>\n",
              "      <th>29</th>\n",
              "      <td>differentiate_Undifferentiated</td>\n",
              "      <td>0.011701</td>\n",
              "    </tr>\n",
              "    <tr>\n",
              "      <th>30</th>\n",
              "      <td>6th Stage_IIB</td>\n",
              "      <td>0.010726</td>\n",
              "    </tr>\n",
              "    <tr>\n",
              "      <th>31</th>\n",
              "      <td>6th Stage_IIIB</td>\n",
              "      <td>0.006940</td>\n",
              "    </tr>\n",
              "    <tr>\n",
              "      <th>32</th>\n",
              "      <td>Tumor Size</td>\n",
              "      <td>0.002574</td>\n",
              "    </tr>\n",
              "    <tr>\n",
              "      <th>33</th>\n",
              "      <td>Survival Months</td>\n",
              "      <td>0.000167</td>\n",
              "    </tr>\n",
              "    <tr>\n",
              "      <th>34</th>\n",
              "      <td>Grade</td>\n",
              "      <td>0.000000</td>\n",
              "    </tr>\n",
              "    <tr>\n",
              "      <th>35</th>\n",
              "      <td>Age</td>\n",
              "      <td>0.000000</td>\n",
              "    </tr>\n",
              "  </tbody>\n",
              "</table>\n",
              "</div>"
            ],
            "text/plain": [
              "                                    Feature  Importance\n",
              "0                    Marital Status_Married    0.055287\n",
              "1                                N Stage_N3    0.054300\n",
              "2                     Reginol Node Positive    0.052015\n",
              "3       differentiate_Poorly differentiated    0.047100\n",
              "4   differentiate_Moderately differentiated    0.045343\n",
              "5                    Marital Status_Single     0.044985\n",
              "6                            6th Stage_IIIC    0.042717\n",
              "7              Progesterone Status_Negative    0.040510\n",
              "8                                Race_Black    0.040171\n",
              "9                  Estrogen Status_Positive    0.040105\n",
              "10                               Race_White    0.040044\n",
              "11                  Marital Status_Divorced    0.038827\n",
              "12                   Marital Status_Widowed    0.037848\n",
              "13                              T Stage _T2    0.036838\n",
              "14             Progesterone Status_Positive    0.036403\n",
              "15                              T Stage _T1    0.034507\n",
              "16                 Estrogen Status_Negative    0.031795\n",
              "17                               N Stage_N1    0.031518\n",
              "18                              T Stage _T3    0.031195\n",
              "19                               Race_Other    0.029906\n",
              "20        differentiate_Well differentiated    0.025285\n",
              "21                            6th Stage_IIA    0.019156\n",
              "22                              T Stage _T4    0.018625\n",
              "23                 Marital Status_Separated    0.017740\n",
              "24                          A Stage_Distant    0.017259\n",
              "25                   Regional Node Examined    0.015666\n",
              "26                               N Stage_N2    0.015194\n",
              "27                         A Stage_Regional    0.015008\n",
              "28                           6th Stage_IIIA    0.012545\n",
              "29           differentiate_Undifferentiated    0.011701\n",
              "30                            6th Stage_IIB    0.010726\n",
              "31                           6th Stage_IIIB    0.006940\n",
              "32                               Tumor Size    0.002574\n",
              "33                          Survival Months    0.000167\n",
              "34                                    Grade    0.000000\n",
              "35                                      Age    0.000000"
            ]
          },
          "execution_count": 9,
          "metadata": {},
          "output_type": "execute_result"
        }
      ],
      "source": [
        "# Rank the features with random forest classifier\n",
        "rf = RandomForestClassifier()\n",
        "rf.fit(features_encoded, label)\n",
        "importances = rf.feature_importances_\n",
        "# Get feature names\n",
        "feature_names = features_encoded.columns\n",
        "features_importance_dict = dict(zip(feature_names, importances))\n",
        "features_importance_df = pd.DataFrame(list(features_importance_dict.items()), columns=['Feature', 'Importance'])\n",
        "features_importance_df = features_importance_df.sort_values(by='Importance', ascending=False).reset_index(drop=True)\n",
        "# Feature ranking based on random forest\n",
        "print(features_importance_df.shape)\n",
        "features_importance_df"
      ]
    },
    {
      "cell_type": "markdown",
      "metadata": {
        "id": "nUimZfTSymNK"
      },
      "source": [
        "Feature selection"
      ]
    },
    {
      "cell_type": "code",
      "execution_count": 10,
      "metadata": {
        "colab": {
          "base_uri": "https://localhost:8080/",
          "height": 694
        },
        "id": "G784GpApy5rO",
        "outputId": "4e6b1a7a-236b-4e4d-be41-83dec4ba075a"
      },
      "outputs": [
        {
          "name": "stdout",
          "output_type": "stream",
          "text": [
            "# of features selected: 20\n"
          ]
        },
        {
          "data": {
            "text/html": [
              "<div>\n",
              "<style scoped>\n",
              "    .dataframe tbody tr th:only-of-type {\n",
              "        vertical-align: middle;\n",
              "    }\n",
              "\n",
              "    .dataframe tbody tr th {\n",
              "        vertical-align: top;\n",
              "    }\n",
              "\n",
              "    .dataframe thead th {\n",
              "        text-align: right;\n",
              "    }\n",
              "</style>\n",
              "<table border=\"1\" class=\"dataframe\">\n",
              "  <thead>\n",
              "    <tr style=\"text-align: right;\">\n",
              "      <th></th>\n",
              "      <th>Feature</th>\n",
              "      <th>Importance</th>\n",
              "    </tr>\n",
              "  </thead>\n",
              "  <tbody>\n",
              "    <tr>\n",
              "      <th>4</th>\n",
              "      <td>differentiate_Moderately differentiated</td>\n",
              "      <td>0.045343</td>\n",
              "    </tr>\n",
              "    <tr>\n",
              "      <th>6</th>\n",
              "      <td>6th Stage_IIIC</td>\n",
              "      <td>0.042717</td>\n",
              "    </tr>\n",
              "    <tr>\n",
              "      <th>7</th>\n",
              "      <td>Progesterone Status_Negative</td>\n",
              "      <td>0.040510</td>\n",
              "    </tr>\n",
              "    <tr>\n",
              "      <th>8</th>\n",
              "      <td>Race_Black</td>\n",
              "      <td>0.040171</td>\n",
              "    </tr>\n",
              "    <tr>\n",
              "      <th>9</th>\n",
              "      <td>Estrogen Status_Positive</td>\n",
              "      <td>0.040105</td>\n",
              "    </tr>\n",
              "    <tr>\n",
              "      <th>10</th>\n",
              "      <td>Race_White</td>\n",
              "      <td>0.040044</td>\n",
              "    </tr>\n",
              "    <tr>\n",
              "      <th>12</th>\n",
              "      <td>Marital Status_Widowed</td>\n",
              "      <td>0.037848</td>\n",
              "    </tr>\n",
              "    <tr>\n",
              "      <th>13</th>\n",
              "      <td>T Stage _T2</td>\n",
              "      <td>0.036838</td>\n",
              "    </tr>\n",
              "    <tr>\n",
              "      <th>14</th>\n",
              "      <td>Progesterone Status_Positive</td>\n",
              "      <td>0.036403</td>\n",
              "    </tr>\n",
              "    <tr>\n",
              "      <th>15</th>\n",
              "      <td>T Stage _T1</td>\n",
              "      <td>0.034507</td>\n",
              "    </tr>\n",
              "    <tr>\n",
              "      <th>16</th>\n",
              "      <td>Estrogen Status_Negative</td>\n",
              "      <td>0.031795</td>\n",
              "    </tr>\n",
              "    <tr>\n",
              "      <th>18</th>\n",
              "      <td>T Stage _T3</td>\n",
              "      <td>0.031195</td>\n",
              "    </tr>\n",
              "    <tr>\n",
              "      <th>20</th>\n",
              "      <td>differentiate_Well differentiated</td>\n",
              "      <td>0.025285</td>\n",
              "    </tr>\n",
              "    <tr>\n",
              "      <th>25</th>\n",
              "      <td>Regional Node Examined</td>\n",
              "      <td>0.015666</td>\n",
              "    </tr>\n",
              "    <tr>\n",
              "      <th>26</th>\n",
              "      <td>N Stage_N2</td>\n",
              "      <td>0.015194</td>\n",
              "    </tr>\n",
              "    <tr>\n",
              "      <th>27</th>\n",
              "      <td>A Stage_Regional</td>\n",
              "      <td>0.015008</td>\n",
              "    </tr>\n",
              "    <tr>\n",
              "      <th>32</th>\n",
              "      <td>Tumor Size</td>\n",
              "      <td>0.002574</td>\n",
              "    </tr>\n",
              "    <tr>\n",
              "      <th>33</th>\n",
              "      <td>Survival Months</td>\n",
              "      <td>0.000167</td>\n",
              "    </tr>\n",
              "    <tr>\n",
              "      <th>34</th>\n",
              "      <td>Grade</td>\n",
              "      <td>0.000000</td>\n",
              "    </tr>\n",
              "    <tr>\n",
              "      <th>35</th>\n",
              "      <td>Age</td>\n",
              "      <td>0.000000</td>\n",
              "    </tr>\n",
              "  </tbody>\n",
              "</table>\n",
              "</div>"
            ],
            "text/plain": [
              "                                    Feature  Importance\n",
              "4   differentiate_Moderately differentiated    0.045343\n",
              "6                            6th Stage_IIIC    0.042717\n",
              "7              Progesterone Status_Negative    0.040510\n",
              "8                                Race_Black    0.040171\n",
              "9                  Estrogen Status_Positive    0.040105\n",
              "10                               Race_White    0.040044\n",
              "12                   Marital Status_Widowed    0.037848\n",
              "13                              T Stage _T2    0.036838\n",
              "14             Progesterone Status_Positive    0.036403\n",
              "15                              T Stage _T1    0.034507\n",
              "16                 Estrogen Status_Negative    0.031795\n",
              "18                              T Stage _T3    0.031195\n",
              "20        differentiate_Well differentiated    0.025285\n",
              "25                   Regional Node Examined    0.015666\n",
              "26                               N Stage_N2    0.015194\n",
              "27                         A Stage_Regional    0.015008\n",
              "32                               Tumor Size    0.002574\n",
              "33                          Survival Months    0.000167\n",
              "34                                    Grade    0.000000\n",
              "35                                      Age    0.000000"
            ]
          },
          "execution_count": 10,
          "metadata": {},
          "output_type": "execute_result"
        }
      ],
      "source": [
        "# Do feature selection based on the random forest model's importance scores\n",
        "selector = SelectFromModel(rf, prefit=True)\n",
        "selected_features = selector.transform(features_encoded)\n",
        "# Get the support for the features used in the reduced set\n",
        "selected_features_mask = selector.get_support()\n",
        "\n",
        "# Get the DataFrame with the selected feature names and their importances\n",
        "selected_features_df = features_importance_df.loc[selected_features_mask]\n",
        "print(\"# of features selected: {}\".format(selected_features_df.shape[0]))\n",
        "selected_features_df"
      ]
    },
    {
      "cell_type": "markdown",
      "metadata": {
        "id": "EyBtqPkn01P_"
      },
      "source": [
        "## Train models\n",
        "Use the 20 important feautures from feature selection above to train the models"
      ]
    },
    {
      "cell_type": "code",
      "execution_count": 11,
      "metadata": {
        "id": "xjDafuZG12L8"
      },
      "outputs": [],
      "source": [
        "import numpy as np\n",
        "from collections import Counter\n",
        "from sklearn.naive_bayes import GaussianNB\n",
        "from sklearn.tree import DecisionTreeClassifier\n",
        "from sklearn.ensemble import RandomForestClassifier\n",
        "from sklearn.ensemble import GradientBoostingClassifier\n",
        "from sklearn.metrics import accuracy_score, precision_score, recall_score, f1_score, confusion_matrix\n",
        "from sklearn.model_selection import train_test_split"
      ]
    },
    {
      "cell_type": "code",
      "execution_count": 12,
      "metadata": {
        "colab": {
          "base_uri": "https://localhost:8080/",
          "height": 297
        },
        "id": "6mvbbB_t9cVo",
        "outputId": "ab8eeb55-d1a4-4878-c0d8-bd192e7c9588"
      },
      "outputs": [
        {
          "name": "stdout",
          "output_type": "stream",
          "text": [
            "# of selected features: 20\n",
            "(4024, 20)\n"
          ]
        },
        {
          "data": {
            "text/html": [
              "<div>\n",
              "<style scoped>\n",
              "    .dataframe tbody tr th:only-of-type {\n",
              "        vertical-align: middle;\n",
              "    }\n",
              "\n",
              "    .dataframe tbody tr th {\n",
              "        vertical-align: top;\n",
              "    }\n",
              "\n",
              "    .dataframe thead th {\n",
              "        text-align: right;\n",
              "    }\n",
              "</style>\n",
              "<table border=\"1\" class=\"dataframe\">\n",
              "  <thead>\n",
              "    <tr style=\"text-align: right;\">\n",
              "      <th></th>\n",
              "      <th>differentiate_Moderately differentiated</th>\n",
              "      <th>6th Stage_IIIC</th>\n",
              "      <th>Progesterone Status_Negative</th>\n",
              "      <th>Race_Black</th>\n",
              "      <th>Estrogen Status_Positive</th>\n",
              "      <th>Race_White</th>\n",
              "      <th>Marital Status_Widowed</th>\n",
              "      <th>T Stage _T2</th>\n",
              "      <th>Progesterone Status_Positive</th>\n",
              "      <th>T Stage _T1</th>\n",
              "      <th>Estrogen Status_Negative</th>\n",
              "      <th>T Stage _T3</th>\n",
              "      <th>differentiate_Well differentiated</th>\n",
              "      <th>Regional Node Examined</th>\n",
              "      <th>N Stage_N2</th>\n",
              "      <th>A Stage_Regional</th>\n",
              "      <th>Tumor Size</th>\n",
              "      <th>Survival Months</th>\n",
              "      <th>Grade</th>\n",
              "      <th>Age</th>\n",
              "    </tr>\n",
              "  </thead>\n",
              "  <tbody>\n",
              "    <tr>\n",
              "      <th>0</th>\n",
              "      <td>0</td>\n",
              "      <td>0</td>\n",
              "      <td>0</td>\n",
              "      <td>0</td>\n",
              "      <td>1</td>\n",
              "      <td>1</td>\n",
              "      <td>0</td>\n",
              "      <td>0</td>\n",
              "      <td>1</td>\n",
              "      <td>1</td>\n",
              "      <td>0</td>\n",
              "      <td>0</td>\n",
              "      <td>0</td>\n",
              "      <td>0</td>\n",
              "      <td>0</td>\n",
              "      <td>1</td>\n",
              "      <td>0</td>\n",
              "      <td>0</td>\n",
              "      <td>0</td>\n",
              "      <td>0</td>\n",
              "    </tr>\n",
              "    <tr>\n",
              "      <th>1</th>\n",
              "      <td>1</td>\n",
              "      <td>0</td>\n",
              "      <td>0</td>\n",
              "      <td>0</td>\n",
              "      <td>1</td>\n",
              "      <td>1</td>\n",
              "      <td>0</td>\n",
              "      <td>1</td>\n",
              "      <td>1</td>\n",
              "      <td>0</td>\n",
              "      <td>0</td>\n",
              "      <td>0</td>\n",
              "      <td>0</td>\n",
              "      <td>0</td>\n",
              "      <td>1</td>\n",
              "      <td>1</td>\n",
              "      <td>0</td>\n",
              "      <td>0</td>\n",
              "      <td>0</td>\n",
              "      <td>0</td>\n",
              "    </tr>\n",
              "    <tr>\n",
              "      <th>2</th>\n",
              "      <td>1</td>\n",
              "      <td>1</td>\n",
              "      <td>0</td>\n",
              "      <td>0</td>\n",
              "      <td>1</td>\n",
              "      <td>1</td>\n",
              "      <td>0</td>\n",
              "      <td>0</td>\n",
              "      <td>1</td>\n",
              "      <td>0</td>\n",
              "      <td>0</td>\n",
              "      <td>1</td>\n",
              "      <td>0</td>\n",
              "      <td>0</td>\n",
              "      <td>0</td>\n",
              "      <td>1</td>\n",
              "      <td>0</td>\n",
              "      <td>0</td>\n",
              "      <td>0</td>\n",
              "      <td>0</td>\n",
              "    </tr>\n",
              "    <tr>\n",
              "      <th>3</th>\n",
              "      <td>0</td>\n",
              "      <td>0</td>\n",
              "      <td>0</td>\n",
              "      <td>0</td>\n",
              "      <td>1</td>\n",
              "      <td>1</td>\n",
              "      <td>0</td>\n",
              "      <td>0</td>\n",
              "      <td>1</td>\n",
              "      <td>1</td>\n",
              "      <td>0</td>\n",
              "      <td>0</td>\n",
              "      <td>0</td>\n",
              "      <td>0</td>\n",
              "      <td>0</td>\n",
              "      <td>1</td>\n",
              "      <td>0</td>\n",
              "      <td>0</td>\n",
              "      <td>0</td>\n",
              "      <td>0</td>\n",
              "    </tr>\n",
              "    <tr>\n",
              "      <th>4</th>\n",
              "      <td>0</td>\n",
              "      <td>0</td>\n",
              "      <td>0</td>\n",
              "      <td>0</td>\n",
              "      <td>1</td>\n",
              "      <td>1</td>\n",
              "      <td>0</td>\n",
              "      <td>1</td>\n",
              "      <td>1</td>\n",
              "      <td>0</td>\n",
              "      <td>0</td>\n",
              "      <td>0</td>\n",
              "      <td>0</td>\n",
              "      <td>0</td>\n",
              "      <td>0</td>\n",
              "      <td>1</td>\n",
              "      <td>0</td>\n",
              "      <td>0</td>\n",
              "      <td>0</td>\n",
              "      <td>0</td>\n",
              "    </tr>\n",
              "  </tbody>\n",
              "</table>\n",
              "</div>"
            ],
            "text/plain": [
              "   differentiate_Moderately differentiated  6th Stage_IIIC  \\\n",
              "0                                        0               0   \n",
              "1                                        1               0   \n",
              "2                                        1               1   \n",
              "3                                        0               0   \n",
              "4                                        0               0   \n",
              "\n",
              "   Progesterone Status_Negative  Race_Black  Estrogen Status_Positive  \\\n",
              "0                             0           0                         1   \n",
              "1                             0           0                         1   \n",
              "2                             0           0                         1   \n",
              "3                             0           0                         1   \n",
              "4                             0           0                         1   \n",
              "\n",
              "   Race_White  Marital Status_Widowed  T Stage _T2  \\\n",
              "0           1                       0            0   \n",
              "1           1                       0            1   \n",
              "2           1                       0            0   \n",
              "3           1                       0            0   \n",
              "4           1                       0            1   \n",
              "\n",
              "   Progesterone Status_Positive  T Stage _T1  Estrogen Status_Negative  \\\n",
              "0                             1            1                         0   \n",
              "1                             1            0                         0   \n",
              "2                             1            0                         0   \n",
              "3                             1            1                         0   \n",
              "4                             1            0                         0   \n",
              "\n",
              "   T Stage _T3  differentiate_Well differentiated  Regional Node Examined  \\\n",
              "0            0                                  0                       0   \n",
              "1            0                                  0                       0   \n",
              "2            1                                  0                       0   \n",
              "3            0                                  0                       0   \n",
              "4            0                                  0                       0   \n",
              "\n",
              "   N Stage_N2  A Stage_Regional  Tumor Size  Survival Months  Grade  Age  \n",
              "0           0                 1           0                0      0    0  \n",
              "1           1                 1           0                0      0    0  \n",
              "2           0                 1           0                0      0    0  \n",
              "3           0                 1           0                0      0    0  \n",
              "4           0                 1           0                0      0    0  "
            ]
          },
          "execution_count": 12,
          "metadata": {},
          "output_type": "execute_result"
        }
      ],
      "source": [
        "selected_x = selected_features_df['Feature'].to_list()\n",
        "print(\"# of selected features: {}\".format(len(selected_x)))\n",
        "\n",
        "training_data = features_encoded[selected_x]\n",
        "print(training_data.shape)\n",
        "training_data.head()"
      ]
    },
    {
      "cell_type": "code",
      "execution_count": 68,
      "metadata": {
        "colab": {
          "base_uri": "https://localhost:8080/"
        },
        "id": "67vaQNhy9tt1",
        "outputId": "191d7840-2b1a-469b-c36b-9508314e1912"
      },
      "outputs": [
        {
          "name": "stdout",
          "output_type": "stream",
          "text": [
            "Shape of X_train: (3219, 20)\n",
            "Shape of y_train: (3219, 1)\n",
            "Shape of X_test: (805, 20)\n",
            "Shape of y_test: (805, 1)\n"
          ]
        }
      ],
      "source": [
        "# Train-test split\n",
        "X_train, X_test, y_train, y_test = train_test_split(training_data, label, test_size=0.2, random_state=42)\n",
        "print(\"Shape of X_train: {}\".format(X_train.shape))\n",
        "print(\"Shape of y_train: {}\".format(y_train.shape))\n",
        "print(\"Shape of X_test: {}\".format(X_test.shape))\n",
        "print(\"Shape of y_test: {}\".format(y_test.shape))"
      ]
    },
    {
      "cell_type": "markdown",
      "metadata": {
        "id": "LpT28_vu1Xb6"
      },
      "source": [
        "KNN"
      ]
    },
    {
      "cell_type": "code",
      "execution_count": 69,
      "metadata": {},
      "outputs": [],
      "source": [
        "from scipy.stats import mode\n",
        "\n",
        "class KNN:\n",
        "    def __init__(self):\n",
        "        self.n_neighbors = 3\n",
        "\n",
        "    def fit(self, X_train, y_train):\n",
        "        self.X_train = X_train.to_numpy()\n",
        "        self.y_train = y_train.to_numpy()\n",
        "\n",
        "    def euclidean_dist(self, x, y):  \n",
        "        return np.sqrt(np.sum((x - y) ** 2))\n",
        "\n",
        "    def predict(self, X_test):\n",
        "        y_predicts = []  \n",
        "        X_test = X_test.to_numpy()\n",
        "        for x in X_test:\n",
        "            y_predicts.append(self.before_predict(x))\n",
        "\n",
        "        return np.array(y_predicts)\n",
        "\n",
        "    def before_predict(self, x):\n",
        "        distances = []\n",
        "        for x_train in self.X_train:\n",
        "            distances.append(self.euclidean_dist(x, x_train))\n",
        "\n",
        "        k_indices = np.argsort(distances)[:self.n_neighbors]\n",
        "        y_labels = []\n",
        "\n",
        "        for idx in k_indices:\n",
        "            y_labels.append(self.y_train[idx])  \n",
        "        \n",
        "        y_predict = mode(y_labels).mode[0]\n",
        "        return y_predict"
      ]
    },
    {
      "cell_type": "code",
      "execution_count": 70,
      "metadata": {},
      "outputs": [
        {
          "name": "stdout",
          "output_type": "stream",
          "text": [
            "0.8679245283018868\n",
            "[[ 22  98]\n",
            " [ 41 644]]\n"
          ]
        }
      ],
      "source": [
        "knn = KNN()\n",
        "# Fit the model and predict\n",
        "knn.fit(X_train, y_train)\n",
        "y_pred = knn.predict(X_test)\n",
        "\n",
        "# Calculate precision\n",
        "precision = precision_score(y_test, y_pred, average='binary')  # For binary classification, change average for multiclass\n",
        "# Generate confusion matrix\n",
        "conf_matrix = confusion_matrix(y_test, y_pred)\n",
        "\n",
        "print(precision)\n",
        "print(conf_matrix)"
      ]
    },
    {
      "cell_type": "markdown",
      "metadata": {
        "id": "MNTaknO_73WS"
      },
      "source": [
        "Naive Bayes"
      ]
    },
    {
      "cell_type": "code",
      "execution_count": 108,
      "metadata": {
        "colab": {
          "base_uri": "https://localhost:8080/"
        },
        "id": "EDNMQAvK74AG",
        "outputId": "98c66948-0d43-4309-8794-e51015fbc056"
      },
      "outputs": [
        {
          "name": "stdout",
          "output_type": "stream",
          "text": [
            "0.9901960784313726\n",
            "[[119   1]\n",
            " [584 101]]\n"
          ]
        }
      ],
      "source": [
        "from sklearn.naive_bayes import GaussianNB\n",
        "\n",
        "# Initialize the classifier\n",
        "nb = GaussianNB()\n",
        "# Train the classifier\n",
        "nb.fit(X_train, y_train)\n",
        "# Predict\n",
        "y_pred = nb.predict(X_test)\n",
        "\n",
        "# Calculate precision\n",
        "precision = precision_score(y_test, y_pred, average='binary')  # For binary classification, change average for multiclass\n",
        "# Generate confusion matrix\n",
        "conf_matrix = confusion_matrix(y_test, y_pred)\n",
        "\n",
        "print(precision)\n",
        "print(conf_matrix)"
      ]
    },
    {
      "cell_type": "markdown",
      "metadata": {
        "id": "qIqV1i9lF2se"
      },
      "source": [
        "Decision Tree"
      ]
    },
    {
      "cell_type": "code",
      "execution_count": 109,
      "metadata": {
        "colab": {
          "base_uri": "https://localhost:8080/"
        },
        "id": "6_Fo_eDNFjLl",
        "outputId": "1e71c256-fe09-4a99-df9a-a824465903a0"
      },
      "outputs": [
        {
          "name": "stdout",
          "output_type": "stream",
          "text": [
            "0.8652575957727873\n",
            "[[ 18 102]\n",
            " [ 30 655]]\n"
          ]
        }
      ],
      "source": [
        "# Initialize the classifier\n",
        "tree = DecisionTreeClassifier(criterion='entropy')  # C4.5 uses entropy\n",
        "# Train the classifier\n",
        "tree.fit(X_train, y_train)\n",
        "# Predict\n",
        "y_pred = tree.predict(X_test)\n",
        "\n",
        "# Calculate precision\n",
        "precision = precision_score(y_test, y_pred, average='binary')  # For binary classification, change average for multiclass\n",
        "# Generate confusion matrix\n",
        "conf_matrix = confusion_matrix(y_test, y_pred)\n",
        "\n",
        "print(precision)\n",
        "print(conf_matrix)"
      ]
    },
    {
      "cell_type": "markdown",
      "metadata": {
        "id": "FrH-JOyHGBjP"
      },
      "source": [
        "Random Forest"
      ]
    },
    {
      "cell_type": "code",
      "execution_count": 110,
      "metadata": {
        "colab": {
          "base_uri": "https://localhost:8080/"
        },
        "id": "WQNEkcHSGAnL",
        "outputId": "1d4043e5-db3a-4b33-f174-cff52378720d"
      },
      "outputs": [
        {
          "name": "stdout",
          "output_type": "stream",
          "text": [
            "0.8656330749354005\n",
            "[[ 16 104]\n",
            " [ 15 670]]\n"
          ]
        }
      ],
      "source": [
        "# Initialize the classifier\n",
        "rf = RandomForestClassifier(n_estimators=100)\n",
        "# Train the classifier\n",
        "rf.fit(X_train, y_train)\n",
        "# Predict\n",
        "y_pred = rf.predict(X_test)\n",
        "\n",
        "# Calculate precision\n",
        "precision = precision_score(y_test, y_pred, average='binary')  # For binary classification, change average for multiclass\n",
        "# Generate confusion matrix\n",
        "conf_matrix = confusion_matrix(y_test, y_pred)\n",
        "\n",
        "print(precision)\n",
        "print(conf_matrix)"
      ]
    },
    {
      "cell_type": "markdown",
      "metadata": {
        "id": "a_X0_n_TGMIk"
      },
      "source": [
        "Gradient boosting"
      ]
    },
    {
      "cell_type": "code",
      "execution_count": 111,
      "metadata": {
        "colab": {
          "base_uri": "https://localhost:8080/"
        },
        "id": "_d43i0d5GKUn",
        "outputId": "7f667f88-2f6b-40bd-852d-12c7802e23ec"
      },
      "outputs": [
        {
          "name": "stdout",
          "output_type": "stream",
          "text": [
            "0.8629441624365483\n",
            "[[ 12 108]\n",
            " [  5 680]]\n"
          ]
        }
      ],
      "source": [
        "# Initialize the classifier\n",
        "gb = GradientBoostingClassifier(n_estimators=100)\n",
        "# Train the classifier\n",
        "gb.fit(X_train, y_train)\n",
        "# Predict\n",
        "y_pred = gb.predict(X_test)\n",
        "\n",
        "# Calculate precision\n",
        "precision = precision_score(y_test, y_pred, average='binary')  # For binary classification, change average for multiclass\n",
        "# Generate confusion matrix\n",
        "conf_matrix = confusion_matrix(y_test, y_pred)\n",
        "\n",
        "print(precision)\n",
        "print(conf_matrix)"
      ]
    },
    {
      "cell_type": "markdown",
      "metadata": {
        "id": "U5QvEfj3H6Kx"
      },
      "source": [
        "# Step3: Hyper-parameter tuning\n"
      ]
    },
    {
      "cell_type": "markdown",
      "metadata": {
        "id": "aPalSaVgH-Ha"
      },
      "source": [
        "Tune random forest and gradient boosting"
      ]
    },
    {
      "cell_type": "code",
      "execution_count": 114,
      "metadata": {
        "id": "DH5Avt68H9dR"
      },
      "outputs": [],
      "source": [
        "from sklearn.model_selection import GridSearchCV\n",
        "from sklearn.ensemble import RandomForestClassifier, GradientBoostingClassifier\n",
        "from sklearn.metrics import accuracy_score"
      ]
    },
    {
      "cell_type": "code",
      "execution_count": 116,
      "metadata": {
        "colab": {
          "base_uri": "https://localhost:8080/"
        },
        "id": "wS2bKlosIhQF",
        "outputId": "be93ac2b-05df-40ce-eb88-82da4db9ff09"
      },
      "outputs": [
        {
          "name": "stdout",
          "output_type": "stream",
          "text": [
            "Best parameters for Random Forest:  {'min_samples_leaf': 4, 'min_samples_split': 10, 'n_estimators': 100}\n",
            "Best accuracy score for Random Forest:  0.849643074485863\n",
            "Best parameters for Gradient Boosting:  {'learning_rate': 0.01, 'max_depth': 3, 'n_estimators': 200}\n",
            "Best accuracy score for Gradient Boosting:  0.849643074485863\n"
          ]
        }
      ],
      "source": [
        "# Random Forest hyperparameters\n",
        "rf_param_grid = {\n",
        "    'n_estimators': [100, 200, 300],\n",
        "    'min_samples_split': [2, 5, 10],\n",
        "    'min_samples_leaf': [1, 2, 4]\n",
        "}\n",
        "\n",
        "# Gradient Boosting hyperparameters\n",
        "gb_param_grid = {\n",
        "    'n_estimators': [100, 200, 300],\n",
        "    'learning_rate': [0.01, 0.1, 0.2],\n",
        "    'max_depth': [3, 5, 7]\n",
        "}\n",
        "\n",
        "# Initialize GridSearchCV objects\n",
        "rf_grid_search = GridSearchCV(estimator=RandomForestClassifier(), param_grid=rf_param_grid,\n",
        "                              scoring='accuracy', cv=5)\n",
        "gb_grid_search = GridSearchCV(estimator=GradientBoostingClassifier(), param_grid=gb_param_grid,\n",
        "                              scoring='accuracy', cv=5)\n",
        "\n",
        "# Perform the grid search\n",
        "rf_grid_search.fit(X_train, y_train)\n",
        "gb_grid_search.fit(X_train, y_train)\n",
        "\n",
        "# Best parameters and scores\n",
        "print(\"Best parameters for Random Forest: \", rf_grid_search.best_params_)\n",
        "print(\"Best accuracy score for Random Forest: \", rf_grid_search.best_score_)\n",
        "print(\"Best parameters for Gradient Boosting: \", gb_grid_search.best_params_)\n",
        "print(\"Best accuracy score for Gradient Boosting: \", gb_grid_search.best_score_)"
      ]
    },
    {
      "cell_type": "markdown",
      "metadata": {
        "id": "OE8FjsYjIX8L"
      },
      "source": [
        "# Step4: Results"
      ]
    },
    {
      "cell_type": "markdown",
      "metadata": {
        "id": "W6CBflhSK75S"
      },
      "source": [
        "Important features based on feature selection with random forest:"
      ]
    },
    {
      "cell_type": "code",
      "execution_count": 118,
      "metadata": {
        "colab": {
          "base_uri": "https://localhost:8080/"
        },
        "id": "LcUNEqDRGRbI",
        "outputId": "187e173d-fd39-4217-cce9-8fc3301bf92a"
      },
      "outputs": [
        {
          "data": {
            "text/plain": [
              "['Marital Status_Single ',\n",
              " '6th Stage_IIIC',\n",
              " 'Marital Status_Divorced',\n",
              " 'Race_White',\n",
              " 'Progesterone Status_Negative',\n",
              " 'Marital Status_Widowed',\n",
              " 'N Stage_N1',\n",
              " 'Progesterone Status_Positive',\n",
              " 'T Stage _T1',\n",
              " 'T Stage _T2',\n",
              " 'Estrogen Status_Positive',\n",
              " 'T Stage _T3',\n",
              " 'differentiate_Well differentiated',\n",
              " 'N Stage_N2',\n",
              " 'A Stage_Regional',\n",
              " 'Regional Node Examined',\n",
              " 'Tumor Size',\n",
              " 'Survival Months',\n",
              " 'Grade',\n",
              " 'Age']"
            ]
          },
          "execution_count": 118,
          "metadata": {},
          "output_type": "execute_result"
        }
      ],
      "source": [
        "selected_features_df['Feature'].to_list()"
      ]
    },
    {
      "cell_type": "markdown",
      "metadata": {
        "id": "VGjpSOweLL2i"
      },
      "source": [
        "Modeling results: Naive Bayes has the best performance with an accuracy of 0.99"
      ]
    },
    {
      "cell_type": "markdown",
      "metadata": {
        "id": "UUygxc_SLlDu"
      },
      "source": [
        "Hyper-parameter tuning: Select random forest and gradient boosting to do hyper-parameter tuning, but the accuracy after tuning turns out to be slighly lower (about 0.85) than that without tuning (about 0.86)"
      ]
    },
    {
      "cell_type": "code",
      "execution_count": null,
      "metadata": {
        "id": "ynX57ogiLI8M"
      },
      "outputs": [],
      "source": []
    }
  ],
  "metadata": {
    "colab": {
      "provenance": [],
      "toc_visible": true
    },
    "kernelspec": {
      "display_name": "Python 3",
      "name": "python3"
    },
    "language_info": {
      "codemirror_mode": {
        "name": "ipython",
        "version": 3
      },
      "file_extension": ".py",
      "mimetype": "text/x-python",
      "name": "python",
      "nbconvert_exporter": "python",
      "pygments_lexer": "ipython3",
      "version": "3.9.6"
    }
  },
  "nbformat": 4,
  "nbformat_minor": 0
}
